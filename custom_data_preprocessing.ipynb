{
 "cells": [
  {
   "cell_type": "code",
   "execution_count": 6,
   "id": "e95a80f1",
   "metadata": {},
   "outputs": [],
   "source": [
    "import numpy as np\n",
    "import random\n",
    "import os\n",
    "import shutil"
   ]
  },
  {
   "cell_type": "code",
   "execution_count": 3,
   "id": "7468c171",
   "metadata": {},
   "outputs": [],
   "source": [
    "animal_data = \"D:\\\\Datasets\\\\animals\\\\raw-img\\\\\""
   ]
  },
  {
   "cell_type": "code",
   "execution_count": 4,
   "id": "5cd6b286",
   "metadata": {},
   "outputs": [],
   "source": [
    "dog_data = animal_data + \"dog\\\\\"\n",
    "cat_data = animal_data + \"cat\\\\\"\n",
    "cow_data = animal_data + \"cow\\\\\""
   ]
  },
  {
   "cell_type": "code",
   "execution_count": 7,
   "id": "77e45166",
   "metadata": {},
   "outputs": [],
   "source": [
    "os.mkdir(animal_data + \"train\\\\\")\n",
    "os.mkdir(animal_data + \"val\\\\\")\n",
    "os.mkdir(animal_data + 'test\\\\' )"
   ]
  },
  {
   "cell_type": "code",
   "execution_count": 8,
   "id": "46f12131",
   "metadata": {},
   "outputs": [],
   "source": [
    "train_dir = animal_data + \"train\"\n",
    "val_dir = animal_data + \"val\"\n",
    "test_dir = animal_data + \"test\""
   ]
  },
  {
   "cell_type": "code",
   "execution_count": 9,
   "id": "e9cf5333",
   "metadata": {},
   "outputs": [],
   "source": [
    "for i in range(333):\n",
    "    dog_choice = random.choice(os.listdir(dog_data))\n",
    "    cat_choice = random.choice(os.listdir(cat_data))\n",
    "    cow_choice = random.choice(os.listdir(cow_data))\n",
    "    \n",
    "    shutil.move(dog_data + dog_choice, train_dir)\n",
    "    shutil.move(cat_data + cat_choice, train_dir)\n",
    "    shutil.move(cow_data + cow_choice, train_dir)"
   ]
  },
  {
   "cell_type": "code",
   "execution_count": 10,
   "id": "74453bc3",
   "metadata": {},
   "outputs": [],
   "source": [
    "for i in range(33):\n",
    "    dog_choice = random.choice(os.listdir(dog_data))\n",
    "    cat_choice = random.choice(os.listdir(cat_data))\n",
    "    cow_choice = random.choice(os.listdir(cow_data))\n",
    "    \n",
    "    shutil.move(dog_data + dog_choice, val_dir)\n",
    "    shutil.move(cat_data + cat_choice, val_dir)\n",
    "    shutil.move(cow_data + cow_choice, val_dir)"
   ]
  },
  {
   "cell_type": "code",
   "execution_count": 11,
   "id": "b0596396",
   "metadata": {},
   "outputs": [],
   "source": [
    "for i in range(33):\n",
    "    dog_choice = random.choice(os.listdir(dog_data))\n",
    "    cat_choice = random.choice(os.listdir(cat_data))\n",
    "    cow_choice = random.choice(os.listdir(cow_data))\n",
    "    \n",
    "    shutil.move(dog_data + dog_choice, test_dir)\n",
    "    shutil.move(cat_data + cat_choice, test_dir)\n",
    "    shutil.move(cow_data + cow_choice, test_dir)"
   ]
  },
  {
   "cell_type": "code",
   "execution_count": null,
   "id": "afb22cac",
   "metadata": {},
   "outputs": [],
   "source": []
  }
 ],
 "metadata": {
  "kernelspec": {
   "display_name": "Python 3 (ipykernel)",
   "language": "python",
   "name": "python3"
  },
  "language_info": {
   "codemirror_mode": {
    "name": "ipython",
    "version": 3
   },
   "file_extension": ".py",
   "mimetype": "text/x-python",
   "name": "python",
   "nbconvert_exporter": "python",
   "pygments_lexer": "ipython3",
   "version": "3.7.13"
  }
 },
 "nbformat": 4,
 "nbformat_minor": 5
}
